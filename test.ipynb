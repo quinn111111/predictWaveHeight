{
 "cells": [
  {
   "cell_type": "code",
   "execution_count": 15,
   "metadata": {},
   "outputs": [],
   "source": [
    "import numpy as np\n",
    "import netCDF4 as nc\n",
    "import xarray as xr"
   ]
  },
  {
   "cell_type": "code",
   "execution_count": 17,
   "metadata": {},
   "outputs": [],
   "source": [
    "file_path_b1 = \"D:\\BaiduNetdiskDownload\\data\\\\bohai\\\\2011-2014.nc\"\n",
    "file_obj_b1 = xr.open_dataset(file_path_b1)"
   ]
  },
  {
   "cell_type": "code",
   "execution_count": 18,
   "metadata": {},
   "outputs": [
    {
     "data": {
      "text/plain": [
       "KeysView(Frozen({'longitude': <xarray.IndexVariable 'longitude' (longitude: 21)>\n",
       "array([117.  , 117.25, 117.5 , 117.75, 118.  , 118.25, 118.5 , 118.75, 119.  ,\n",
       "       119.25, 119.5 , 119.75, 120.  , 120.25, 120.5 , 120.75, 121.  , 121.25,\n",
       "       121.5 , 121.75, 122.  ], dtype=float32)\n",
       "Attributes:\n",
       "    units:      degrees_east\n",
       "    long_name:  longitude, 'latitude': <xarray.IndexVariable 'latitude' (latitude: 17)>\n",
       "array([41.  , 40.75, 40.5 , 40.25, 40.  , 39.75, 39.5 , 39.25, 39.  , 38.75,\n",
       "       38.5 , 38.25, 38.  , 37.75, 37.5 , 37.25, 37.  ], dtype=float32)\n",
       "Attributes:\n",
       "    units:      degrees_north\n",
       "    long_name:  latitude, 'time': <xarray.IndexVariable 'time' (time: 35064)>\n",
       "array(['2011-01-01T00:00:00.000000000', '2011-01-01T01:00:00.000000000',\n",
       "       '2011-01-01T02:00:00.000000000', ..., '2014-12-31T21:00:00.000000000',\n",
       "       '2014-12-31T22:00:00.000000000', '2014-12-31T23:00:00.000000000'],\n",
       "      dtype='datetime64[ns]')\n",
       "Attributes:\n",
       "    long_name:  time, 'u10': <xarray.Variable (time: 35064, latitude: 17, longitude: 21)>\n",
       "[12517848 values with dtype=float32]\n",
       "Attributes:\n",
       "    units:      m s**-1\n",
       "    long_name:  10 metre U wind component, 'v10': <xarray.Variable (time: 35064, latitude: 17, longitude: 21)>\n",
       "[12517848 values with dtype=float32]\n",
       "Attributes:\n",
       "    units:      m s**-1\n",
       "    long_name:  10 metre V wind component, 'swh': <xarray.Variable (time: 35064, latitude: 17, longitude: 21)>\n",
       "[12517848 values with dtype=float32]\n",
       "Attributes:\n",
       "    units:      m\n",
       "    long_name:  Significant height of combined wind waves and swell}))"
      ]
     },
     "execution_count": 18,
     "metadata": {},
     "output_type": "execute_result"
    }
   ],
   "source": [
    "file_obj_b1.variables.keys()"
   ]
  },
  {
   "cell_type": "code",
   "execution_count": 19,
   "metadata": {},
   "outputs": [],
   "source": [
    "# 目标B经纬度坐标\n",
    "target_longitude_b = 120.00\n",
    "target_latitude_b = 39.00"
   ]
  },
  {
   "cell_type": "code",
   "execution_count": 20,
   "metadata": {},
   "outputs": [
    {
     "name": "stderr",
     "output_type": "stream",
     "text": [
      "c:\\Users\\HAN\\anaconda3\\lib\\site-packages\\xarray\\core\\indexes.py:234: FutureWarning: Passing method to Float64Index.get_loc is deprecated and will raise in a future version. Use index.get_indexer([item], method=...) instead.\n",
      "  indexer = self.index.get_loc(\n",
      "c:\\Users\\HAN\\anaconda3\\lib\\site-packages\\xarray\\core\\indexes.py:234: FutureWarning: Passing method to Float64Index.get_loc is deprecated and will raise in a future version. Use index.get_indexer([item], method=...) instead.\n",
      "  indexer = self.index.get_loc(\n"
     ]
    }
   ],
   "source": [
    "# 固定经度和纬度并获取其余信息\n",
    "subset_data_b = file_obj_b1.sel(longitude=target_longitude_b, latitude=target_latitude_b, method='nearest')"
   ]
  },
  {
   "cell_type": "code",
   "execution_count": 28,
   "metadata": {},
   "outputs": [],
   "source": [
    "swh_data_b1 = subset_data_b.variables['swh'][:].data\n",
    "longitude = file_obj_b1.variables['longitude'][:].data\n",
    "u10 = subset_data_b.variables['u10'][:].data\n"
   ]
  },
  {
   "cell_type": "code",
   "execution_count": 29,
   "metadata": {},
   "outputs": [
    {
     "name": "stdout",
     "output_type": "stream",
     "text": [
      "B数据的形状（维度大小）: (35064,)\n",
      "B数据的形状（维度大小）: (21,)\n",
      "B数据的形状（维度大小）: (35064,)\n"
     ]
    }
   ],
   "source": [
    "# 使用 .shape 获取维度的大小\n",
    "shape_s = swh_data_b1.shape\n",
    "print(\"B数据的形状（维度大小）:\", shape_s)\n",
    "# 使用 .shape 获取维度的大小\n",
    "shape_long = longitude.shape\n",
    "print(\"B数据的形状（维度大小）:\", shape_long)\n",
    "# 使用 .shape 获取维度的大小\n",
    "shape_u10 = u10.shape\n",
    "print(\"B数据的形状（维度大小）:\", shape_u10)"
   ]
  },
  {
   "cell_type": "code",
   "execution_count": 23,
   "metadata": {},
   "outputs": [
    {
     "name": "stdout",
     "output_type": "stream",
     "text": [
      "nan\n"
     ]
    }
   ],
   "source": [
    "print(swh_data_b1[0])"
   ]
  }
 ],
 "metadata": {
  "kernelspec": {
   "display_name": "base",
   "language": "python",
   "name": "python3"
  },
  "language_info": {
   "codemirror_mode": {
    "name": "ipython",
    "version": 3
   },
   "file_extension": ".py",
   "mimetype": "text/x-python",
   "name": "python",
   "nbconvert_exporter": "python",
   "pygments_lexer": "ipython3",
   "version": "3.9.13"
  },
  "orig_nbformat": 4
 },
 "nbformat": 4,
 "nbformat_minor": 2
}
