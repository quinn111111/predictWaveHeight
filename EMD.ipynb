{
 "cells": [
  {
   "cell_type": "code",
   "execution_count": null,
   "metadata": {},
   "outputs": [],
   "source": [
    "import numpy as np\n",
    "import xarray as xr\n",
    "import matplotlib.pyplot as plt\n",
    "from PyEMD import EMD\n",
    "import pandas as pd\n",
    "from sklearn.model_selection import train_test_split\n",
    "from sklearn.preprocessing import MinMaxScaler\n",
    "import torch\n",
    "import torch.nn as nn\n",
    "from torch.utils.data import DataLoader, TensorDataset\n",
    "from torch.optim import Adam"
   ]
  },
  {
   "cell_type": "code",
   "execution_count": null,
   "metadata": {},
   "outputs": [],
   "source": [
    "path = \"D:\\BaiduNetdiskDownload\\data\\\\donghai\\\\2011-2014.nc\"\n",
    "dataset = xr.open_dataset(path)"
   ]
  },
  {
   "cell_type": "code",
   "execution_count": null,
   "metadata": {},
   "outputs": [],
   "source": [
    "target_longitude_b = 120.00\n",
    "target_latitude_b = 39.00\n",
    "subset_data = dataset.sel(longitude=target_longitude_b, latitude=target_latitude_b, method='nearest')"
   ]
  },
  {
   "cell_type": "code",
   "execution_count": null,
   "metadata": {},
   "outputs": [],
   "source": [
    "time = subset_data.variables['time'][:].data\n",
    "u10 = subset_data.variables['u10'][:].data\n",
    "v10 = subset_data.variables['v10'][:].data\n",
    "swh = subset_data.variables['swh'][:].data\n",
    "# 创建DataFrame来组织数据\n",
    "data = pd.DataFrame({'time': time, 'u10': u10, 'v10': v10, 'swh': swh})"
   ]
  },
  {
   "cell_type": "code",
   "execution_count": null,
   "metadata": {},
   "outputs": [],
   "source": [
    "# length = len(swh)\n",
    "# time = np.linspace(0, length, length)\n",
    "# emd = EMD()\n",
    "# IMFs = emd(swh)\n",
    "\n",
    "# plt.figure(figsize=(10, 5))\n",
    "# plt.subplot(len(IMFs) + 1, 1, 1)\n",
    "# plt.plot(time, swh, 'r')\n",
    "# plt.title(\"Original SWH\")\n",
    "\n",
    "# for i, imf in enumerate(IMFs):\n",
    "#     plt.subplot(len(IMFs) + 1, 1, i + 2)\n",
    "#     plt.plot(time, imf)\n",
    "#     plt.title(f\"IMF {i + 1}\")\n",
    "# plt.xlabel('Time (h)')\n",
    "# plt.tight_layout()\n",
    "# plt.savefig('D_emd.png')\n",
    "# plt.show()\n",
    "\n",
    "#######################################\n",
    "time = np.linspace(0, 15000, 15000)\n",
    "emd = EMD()\n",
    "IMFs = emd(swh[:15000])\n",
    "\n",
    "plt.figure(figsize=(5, 10))\n",
    "plt.subplot(len(IMFs) + 1, 1, 1)\n",
    "plt.plot(time, swh[:15000], 'r')\n",
    "plt.title(\"Original SWH\")\n",
    "\n",
    "for i, imf in enumerate(IMFs):\n",
    "    plt.subplot(len(IMFs) + 1, 1, i + 2)\n",
    "    plt.plot(time, imf)\n",
    "    plt.title(f\"IMF {i + 1}\")\n",
    "plt.xlabel('Time (h)')\n",
    "plt.tight_layout()\n",
    "plt.savefig('D_emd.png')\n",
    "plt.show()\n",
    "########################################\n"
   ]
  },
  {
   "cell_type": "code",
   "execution_count": null,
   "metadata": {},
   "outputs": [],
   "source": [
    "import pickle\n",
    "with open('D_EMD_2011-2014.pkl', 'wb') as file:\n",
    "    pickle.dump(IMFs, file)"
   ]
  },
  {
   "cell_type": "code",
   "execution_count": null,
   "metadata": {},
   "outputs": [],
   "source": [
    "X = np.vstack(IMFs)\n",
    "X = X.T\n",
    "y = swh[:15000]\n",
    "X = np.concatenate((X, data[['u10', 'v10']].values[:15000]), axis=1)\n",
    "print(X.shape)"
   ]
  },
  {
   "cell_type": "code",
   "execution_count": null,
   "metadata": {},
   "outputs": [],
   "source": [
    "# 划分数据集为训练集和测试集\n",
    "split_point = int(0.8 * len(X))\n",
    "X_train = X[:split_point,:]\n",
    "X_test = X[split_point:,:]\n",
    "y_train = y[:split_point]\n",
    "y_test = y[split_point:]\n",
    "#X_train, X_test, y_train, y_test = train_test_split(X, y, test_size=0.2, random_state=42)"
   ]
  },
  {
   "cell_type": "code",
   "execution_count": null,
   "metadata": {},
   "outputs": [],
   "source": [
    "# 标准化特征\n",
    "scaler = MinMaxScaler()\n",
    "X_train = scaler.fit_transform(X_train)\n",
    "X_test = scaler.fit_transform(X_test)"
   ]
  },
  {
   "cell_type": "code",
   "execution_count": null,
   "metadata": {},
   "outputs": [],
   "source": [
    "# 将数据转换为PyTorch张量\n",
    "X_train_tensor = torch.tensor(X_train, dtype=torch.float32)\n",
    "y_train_tensor = torch.tensor(y_train, dtype=torch.float32)\n",
    "X_test_tensor = torch.tensor(X_test, dtype=torch.float32)\n",
    "y_test_tensor = torch.tensor(y_test, dtype=torch.float32)\n",
    "print(X_train_tensor.shape)\n",
    "print(y_train_tensor.shape)"
   ]
  },
  {
   "cell_type": "code",
   "execution_count": null,
   "metadata": {},
   "outputs": [],
   "source": [
    "# 创建PyTorch数据集和数据加载器\n",
    "train_dataset = TensorDataset(X_train_tensor, y_train_tensor)\n",
    "train_loader = DataLoader(train_dataset, batch_size=32, shuffle=True)"
   ]
  },
  {
   "cell_type": "code",
   "execution_count": null,
   "metadata": {},
   "outputs": [],
   "source": [
    "# 定义LSTM模型\n",
    "class LSTMModel(nn.Module):\n",
    "    def __init__(self, input_size, hidden_size):\n",
    "        super(LSTMModel, self).__init__()\n",
    "        self.lstm = nn.LSTM(input_size, hidden_size, batch_first=True)\n",
    "        self.fc = nn.Linear(hidden_size, 1)\n",
    "    \n",
    "    def forward(self, x):\n",
    "        out, _ = self.lstm(x)\n",
    "        out = self.fc(out[:, -1, :])  # 取最后一个时间步的输出\n",
    "        return out"
   ]
  },
  {
   "cell_type": "code",
   "execution_count": null,
   "metadata": {},
   "outputs": [],
   "source": [
    "# 创建模型实例\n",
    "input_size = X.shape[1]\n",
    "hidden_size = 50\n",
    "model = LSTMModel(input_size, hidden_size)"
   ]
  },
  {
   "cell_type": "code",
   "execution_count": null,
   "metadata": {},
   "outputs": [],
   "source": [
    "# 定义损失函数和优化器\n",
    "criterion = nn.MSELoss()\n",
    "optimizer = Adam(model.parameters(), lr=0.001)"
   ]
  },
  {
   "cell_type": "code",
   "execution_count": 15,
   "metadata": {},
   "outputs": [],
   "source": [
    "# 训练模型\n",
    "num_epochs = 20\n",
    "for epoch in range(num_epochs):\n",
    "    for inputs, labels in train_loader:\n",
    "        optimizer.zero_grad()\n",
    "        outputs = model(inputs.unsqueeze(1))\n",
    "        loss = criterion(outputs, labels.unsqueeze(1))\n",
    "        loss.backward()\n",
    "        optimizer.step()\n",
    "    print(f'Epoch [{epoch+1}/{num_epochs}], Loss: {loss.item():.4f}')"
   ]
  },
  {
   "cell_type": "code",
   "execution_count": null,
   "metadata": {},
   "outputs": [],
   "source": [
    "# 测试模型\n",
    "model.eval()\n",
    "with torch.no_grad():\n",
    "    y_pred_tensor = model(X_test_tensor.unsqueeze(1))\n",
    "    test_loss = criterion(y_pred_tensor, y_test_tensor.unsqueeze(1))\n",
    "\n",
    "print(f'Test Loss: {test_loss.item():.4f}')"
   ]
  },
  {
   "cell_type": "code",
   "execution_count": null,
   "metadata": {},
   "outputs": [],
   "source": [
    "\n",
    "y_pred = y_pred_tensor.numpy()\n",
    "y_test = y_test_tensor.numpy()\n"
   ]
  },
  {
   "cell_type": "code",
   "execution_count": null,
   "metadata": {},
   "outputs": [],
   "source": [
    "swh_pred = np.sum(y_pred.T, axis=0)"
   ]
  },
  {
   "cell_type": "code",
   "execution_count": null,
   "metadata": {},
   "outputs": [],
   "source": [
    "from sklearn.metrics import mean_squared_error\n",
    "from math import sqrt\n",
    "rmse = sqrt(mean_squared_error(y_test, swh_pred))\n",
    "print(\"RMSE:\", rmse)\n",
    "\n",
    "\n",
    "from scipy.stats import pearsonr\n",
    "r, _ = pearsonr(y_test, swh_pred)\n",
    "print(\"Correlation coefficient (R):\", r)"
   ]
  },
  {
   "cell_type": "code",
   "execution_count": null,
   "metadata": {},
   "outputs": [],
   "source": [
    "import matplotlib.pyplot as plt\n",
    "\n",
    "time = np.arange(0, 400, 1)\n",
    "\n",
    "#print(y_test[:400])\n",
    "\n",
    "plt.figure(figsize=(6, 2))\n",
    "plt.plot(time, y_test[800:1200], linestyle='-', linewidth=1.0)\n",
    "plt.plot(time, swh_pred[800:1200], linestyle='-', linewidth=1.0)\n",
    "\n",
    "plt.xlabel('time(h)')\n",
    "plt.ylabel('height(m)')\n",
    "plt.title('plot_height')\n",
    "\n",
    "plt.grid(True)\n",
    "\n",
    "plt.show()"
   ]
  }
 ],
 "metadata": {
  "kernelspec": {
   "display_name": "pred",
   "language": "python",
   "name": "python3"
  },
  "language_info": {
   "codemirror_mode": {
    "name": "ipython",
    "version": 3
   },
   "file_extension": ".py",
   "mimetype": "text/x-python",
   "name": "python",
   "nbconvert_exporter": "python",
   "pygments_lexer": "ipython3",
   "version": "3.9.18"
  },
  "orig_nbformat": 4
 },
 "nbformat": 4,
 "nbformat_minor": 2
}
