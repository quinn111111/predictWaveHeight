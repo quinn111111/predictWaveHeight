{
 "cells": [
  {
   "cell_type": "code",
   "execution_count": 5,
   "metadata": {},
   "outputs": [],
   "source": [
    "import numpy as np\n",
    "import netCDF4 as nc\n",
    "import xarray as xr\n",
    "import matplotlib.pyplot as plt\n",
    "from PyEMD import EMD"
   ]
  },
  {
   "cell_type": "code",
   "execution_count": 6,
   "metadata": {},
   "outputs": [],
   "source": [
    "path = \"D:\\BaiduNetdiskDownload\\data\\\\donghai\\\\2011-2014.nc\"\n",
    "dataset = xr.open_dataset(path)"
   ]
  },
  {
   "cell_type": "code",
   "execution_count": 7,
   "metadata": {},
   "outputs": [],
   "source": [
    "target_longitude_b = 120.00\n",
    "target_latitude_b = 39.00\n",
    "subset_data = dataset.sel(longitude=target_longitude_b, latitude=target_latitude_b, method='nearest')\n",
    "swh = subset_data.variables['swh'][:].data"
   ]
  },
  {
   "cell_type": "code",
   "execution_count": 22,
   "metadata": {},
   "outputs": [],
   "source": [
    "length = len(swh)\n",
    "time = np.linspace(0, length, length)\n",
    "emd = EMD()\n",
    "IMFs = emd(swh)\n",
    "\n",
    "plt.figure(figsize=(10, 5))\n",
    "plt.subplot(len(IMFs) + 1, 1, 1)\n",
    "plt.plot(time, swh, 'r')\n",
    "plt.title(\"Original SWH\")\n",
    "\n",
    "for i, imf in enumerate(IMFs):\n",
    "    plt.subplot(len(IMFs) + 1, 1, i + 2)\n",
    "    plt.plot(time, imf)\n",
    "    plt.title(f\"IMF {i + 1}\")\n",
    "plt.xlabel('Time (h)')\n",
    "plt.tight_layout()\n",
    "plt.savefig('D_emd.png')\n",
    "plt.show()\n",
    "\n",
    "########################################\n",
    "# time = np.linspace(0, 50, 50)\n",
    "# emd = EMD()\n",
    "# IMFs = emd(swh[:50])\n",
    "\n",
    "# plt.figure(figsize=(10, 5))\n",
    "# plt.subplot(len(IMFs) + 1, 1, 1)\n",
    "# plt.plot(time, swh[:50], 'r')\n",
    "# plt.title(\"Original SWH\")\n",
    "\n",
    "# for i, imf in enumerate(IMFs):\n",
    "#     plt.subplot(len(IMFs) + 1, 1, i + 2)\n",
    "#     plt.plot(time, imf)\n",
    "#     plt.title(f\"IMF {i + 1}\")\n",
    "# plt.xlabel('Time (h)')\n",
    "# plt.tight_layout()\n",
    "# plt.savefig('D_emd.png')\n",
    "# plt.show()\n",
    "#########################################\n"
   ]
  },
  {
   "cell_type": "code",
   "execution_count": null,
   "metadata": {},
   "outputs": [],
   "source": [
    "import pickle\n",
    "with open('D_EMD_2011-2014.pkl', 'wb') as file:\n",
    "    pickle.dump(IMFs, file)"
   ]
  }
 ],
 "metadata": {
  "kernelspec": {
   "display_name": "pred",
   "language": "python",
   "name": "python3"
  },
  "language_info": {
   "codemirror_mode": {
    "name": "ipython",
    "version": 3
   },
   "file_extension": ".py",
   "mimetype": "text/x-python",
   "name": "python",
   "nbconvert_exporter": "python",
   "pygments_lexer": "ipython3",
   "version": "3.9.18"
  },
  "orig_nbformat": 4
 },
 "nbformat": 4,
 "nbformat_minor": 2
}
