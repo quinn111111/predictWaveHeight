{
 "cells": [
  {
   "cell_type": "code",
   "execution_count": null,
   "metadata": {},
   "outputs": [],
   "source": [
    "import numpy as np\n",
    "import netCDF4 as nc\n",
    "import matplotlib.pyplot as plt\n",
    "import xarray as xr\n"
   ]
  },
  {
   "cell_type": "code",
   "execution_count": null,
   "metadata": {},
   "outputs": [],
   "source": [
    "file_path_b1 = \"D:\\BaiduNetdiskDownload\\data\\\\bohai\\\\2011-2014.nc\"\n",
    "file_path_b2 = \"D:\\BaiduNetdiskDownload\\data\\\\bohai\\\\2015-2018.nc\"\n",
    "file_path_b3 = \"D:\\BaiduNetdiskDownload\\data\\\\bohai\\\\2019-2020.nc\"\n",
    "file_path_d1 = \"D:\\BaiduNetdiskDownload\\data\\donghai\\\\2011-2014.nc\"\n",
    "file_path_d2 = \"D:\\BaiduNetdiskDownload\\data\\donghai\\\\2015-2018.nc\"\n",
    "file_path_d3 = \"D:\\BaiduNetdiskDownload\\data\\donghai\\\\2019-2020.nc\"\n",
    "file_path_n1 = \"D:\\BaiduNetdiskDownload\\data\\\\nanhai\\\\2011-2014.nc\"\n",
    "file_path_n2 = \"D:\\BaiduNetdiskDownload\\data\\\\nanhai\\\\2015-2018.nc\"\n",
    "file_path_n3 = \"D:\\BaiduNetdiskDownload\\data\\\\nanhai\\\\2019-2020.nc\"\n",
    "\n",
    "file_obj_b1 = xr.open_dataset(file_path_b1)\n",
    "file_obj_b2 = xr.open_dataset(file_path_b2)\n",
    "file_obj_b3 = xr.open_dataset(file_path_b3)\n",
    "file_obj_d1 = xr.open_dataset(file_path_d1)\n",
    "file_obj_d2 = xr.open_dataset(file_path_d2)\n",
    "file_obj_d3 = xr.open_dataset(file_path_d3)\n",
    "file_obj_n1 = xr.open_dataset(file_path_n1)\n",
    "file_obj_n2 = xr.open_dataset(file_path_n2)\n",
    "file_obj_n3 = xr.open_dataset(file_path_n3)\n",
    "file_obj_b = xr.concat([file_obj_d1, file_obj_d2, file_obj_d3], dim='time')\n",
    "file_obj_d = xr.concat([file_obj_d1, file_obj_d2, file_obj_d3], dim='time')\n",
    "file_obj_n = xr.concat([file_obj_d1, file_obj_d2, file_obj_d3], dim='time')"
   ]
  },
  {
   "cell_type": "code",
   "execution_count": null,
   "metadata": {},
   "outputs": [],
   "source": [
    "# 目标B经纬度坐标\n",
    "target_longitude_b = 120.00\n",
    "target_latitude_b = 39.00\n",
    "# 目标D经纬度坐标\n",
    "target_longitude_d = 124.00\n",
    "target_latitude_d = 31.00\n",
    "# 目标N经纬度坐标\n",
    "target_longitude_n = 116.00\n",
    "target_latitude_n = 18.00"
   ]
  },
  {
   "cell_type": "code",
   "execution_count": null,
   "metadata": {},
   "outputs": [],
   "source": [
    "# 固定经度和纬度并获取其余信息\n",
    "subset_data_b = file_obj_b.sel(longitude=target_longitude_b, latitude=target_latitude_b, method='nearest')\n",
    "subset_data_d = file_obj_d.sel(longitude=target_longitude_d, latitude=target_latitude_d, method='nearest')\n",
    "subset_data_n = file_obj_n.sel(longitude=target_longitude_n, latitude=target_latitude_n,method='nearest')"
   ]
  },
  {
   "cell_type": "code",
   "execution_count": null,
   "metadata": {},
   "outputs": [],
   "source": [
    "# 使用 .shape 获取维度的大小\n",
    "shape_b = subset_data_b.variables\n",
    "print(\"B数据的形状（维度大小）:\", shape_b)\n",
    "shape_d = subset_data_b.variables\n",
    "print(\"D数据的形状（维度大小）:\", shape_d)\n",
    "shape_n = subset_data_n.variables\n",
    "print(\"N数据的形状（维度大小）:\", shape_n)"
   ]
  },
  {
   "cell_type": "code",
   "execution_count": null,
   "metadata": {},
   "outputs": [],
   "source": [
    "# 获取 subset_data 的维度信息\n",
    "dimensions_b = subset_data_b.dims\n",
    "print(\"维度信息:\", dimensions_b)\n",
    "# 获取 subset_data 的维度信息\n",
    "dimensions_d = subset_data_d.dims\n",
    "print(\"维度信息:\", dimensions_d)\n",
    "# 获取 subset_data 的维度信息\n",
    "dimensions_n = subset_data_n.dims\n",
    "print(\"维度信息:\", dimensions_n)"
   ]
  },
  {
   "cell_type": "code",
   "execution_count": null,
   "metadata": {},
   "outputs": [],
   "source": [
    "print(subset_data_b[0])"
   ]
  },
  {
   "cell_type": "code",
   "execution_count": null,
   "metadata": {},
   "outputs": [],
   "source": [
    "plt.hist(subset_data_b['swh'], bins=30, edgecolor='black', label='波高')\n",
    "plt.xlabel('Height')\n",
    "plt.ylabel('times')\n",
    "plt.title('B')\n",
    "plt.savefig('B.png')\n",
    "plt.show()"
   ]
  },
  {
   "cell_type": "code",
   "execution_count": null,
   "metadata": {},
   "outputs": [],
   "source": [
    "plt.hist(subset_data_d['swh'], bins=30, edgecolor='black', label='波高')\n",
    "plt.xlabel('Height')\n",
    "plt.ylabel('times')\n",
    "plt.title('D')\n",
    "plt.savefig('D.png')\n",
    "plt.show()"
   ]
  },
  {
   "cell_type": "code",
   "execution_count": null,
   "metadata": {},
   "outputs": [],
   "source": [
    "plt.hist(subset_data_n['swh'], bins=30, edgecolor='black', label='波高')\n",
    "plt.xlabel('Height')\n",
    "plt.ylabel('times')\n",
    "plt.title('N')\n",
    "plt.savefig('N.png')\n",
    "plt.show()"
   ]
  }
 ],
 "metadata": {
  "kernelspec": {
   "display_name": "base",
   "language": "python",
   "name": "python3"
  },
  "language_info": {
   "codemirror_mode": {
    "name": "ipython",
    "version": 3
   },
   "file_extension": ".py",
   "mimetype": "text/x-python",
   "name": "python",
   "nbconvert_exporter": "python",
   "pygments_lexer": "ipython3",
   "version": "3.9.13"
  },
  "orig_nbformat": 4
 },
 "nbformat": 4,
 "nbformat_minor": 2
}
